{
 "cells": [
  {
   "attachments": {},
   "cell_type": "markdown",
   "metadata": {},
   "source": [
    "# Working"
   ]
  },
  {
   "cell_type": "code",
   "execution_count": 5,
   "metadata": {},
   "outputs": [
    {
     "name": "stdout",
     "output_type": "stream",
     "text": [
      "The autoreload extension is already loaded. To reload it, use:\n",
      "  %reload_ext autoreload\n"
     ]
    }
   ],
   "source": [
    "%load_ext autoreload\n",
    "%autoreload 2\n",
    "import sys\n",
    "sys.path.append(\"src/\")"
   ]
  },
  {
   "cell_type": "code",
   "execution_count": 10,
   "metadata": {},
   "outputs": [],
   "source": [
    "\n",
    "from src.data import get_track , getBatch\n",
    "from src.model import Transformer\n",
    "import glob\n",
    "import numpy as np"
   ]
  },
  {
   "cell_type": "code",
   "execution_count": 11,
   "metadata": {},
   "outputs": [],
   "source": [
    "aPaths = glob.glob(\"data/*AllPSA.npy\")\n",
    "hpaths = glob.glob(\"data/*.hits.npy\")\n",
    "ap = np.random.choice(aPaths)\n",
    "hp = np.random.choice(hpaths)\n",
    "trk =  get_track(apth=ap,hpth=hp)\n",
    "batch = getBatch(trk,batch_size=32)\n",
    "X = batch[:,:,2:5]\n",
    "Y = batch[:,:,5:]\n",
    "model = Transformer()"
   ]
  },
  {
   "attachments": {},
   "cell_type": "markdown",
   "metadata": {},
   "source": [
    "# Experiment"
   ]
  },
  {
   "cell_type": "code",
   "execution_count": 43,
   "metadata": {},
   "outputs": [],
   "source": [
    "predictions, loss = model(X,Y)"
   ]
  },
  {
   "cell_type": "code",
   "execution_count": 44,
   "metadata": {},
   "outputs": [
    {
     "data": {
      "text/plain": [
       "<tf.Tensor: shape=(), dtype=float32, numpy=249.33801>"
      ]
     },
     "execution_count": 44,
     "metadata": {},
     "output_type": "execute_result"
    }
   ],
   "source": [
    "loss"
   ]
  },
  {
   "cell_type": "code",
   "execution_count": 9,
   "metadata": {},
   "outputs": [],
   "source": [
    "import numpy as np\n",
    "import tensorflow as tf\n",
    "from scipy.spatial import distance_matrix\n",
    "\n",
    "N=200\n",
    "\n",
    "xINP = np.random.uniform(-1,1,(N,2))\n",
    "permutation = np.random.permutation(range(N))\n",
    "yINP = np.array(list(map(lambda i: xINP[i], permutation)))\n",
    "Noise = 0.01\n",
    "Noise = 0.1\n",
    "yINP += np.random.normal(0,Noise,(N,2))\n",
    "\n",
    "\n",
    "def bipartete_matching(xINP:np.ndarray,yINP:np.ndarray)-> (np.ndarray,np.ndarray):\n",
    "    cost_matrix = distance_matrix(xINP,yINP)\n",
    "\n",
    "    queue = []\n",
    "    for i in range(cost_matrix.shape[0]):\n",
    "        for j in range(cost_matrix.shape[1]):\n",
    "            queue.append([i,j,cost_matrix[i,j]])\n",
    "    queue = sorted(queue, key=lambda x: x[2])\n",
    "\n",
    "    row_to_col_match_vec = np.full(N,-1)\n",
    "    col_to_row_match_vec = np.full(N,-1)\n",
    "    for row in queue:\n",
    "        if (row_to_col_match_vec[row[0]] == -1) & (col_to_row_match_vec[row[1]] == -1):\n",
    "            row_to_col_match_vec[row[0]] = row[1]\n",
    "            col_to_row_match_vec[row[1]] = row[0]\n",
    "    return col_to_row_match_vec"
   ]
  },
  {
   "cell_type": "code",
   "execution_count": 10,
   "metadata": {},
   "outputs": [],
   "source": [
    "class BipartateMatching(tf.keras.layers.Layer):\n",
    "    def __init__(self):\n",
    "        super().__init__()\n",
    "    def __call__(self,xINP:tf.Tensor,yINP:tf.Tensor)->tf.Tensor:\n",
    "        cost_matrix = distance_matrix(xINP,yINP)\n",
    "\n",
    "        queue = []\n",
    "        for i in range(cost_matrix.shape[0]):\n",
    "            for j in range(cost_matrix.shape[1]):\n",
    "                queue.append([i,j,cost_matrix[i,j]])\n",
    "        queue = sorted(queue, key=lambda x: x[2])\n",
    "\n",
    "        row_to_col_match_vec = np.full(N,-1)\n",
    "        col_to_row_match_vec = np.full(N,-1)\n",
    "        for row in queue:\n",
    "            if (row_to_col_match_vec[row[0]] == -1) & (col_to_row_match_vec[row[1]] == -1):\n",
    "                row_to_col_match_vec[row[0]] = row[1]\n",
    "                col_to_row_match_vec[row[1]] = row[0]\n",
    "        return col_to_row_match_vec"
   ]
  },
  {
   "cell_type": "code",
   "execution_count": 11,
   "metadata": {},
   "outputs": [
    {
     "ename": "TypeError",
     "evalue": "__call__() takes 2 positional arguments but 3 were given",
     "output_type": "error",
     "traceback": [
      "\u001b[1;31m---------------------------------------------------------------------------\u001b[0m",
      "\u001b[1;31mTypeError\u001b[0m                                 Traceback (most recent call last)",
      "\u001b[1;32m~\\AppData\\Local\\Temp\\ipykernel_2516\\1408793695.py\u001b[0m in \u001b[0;36m<module>\u001b[1;34m\u001b[0m\n\u001b[0;32m      1\u001b[0m \u001b[0mlx\u001b[0m \u001b[1;33m=\u001b[0m \u001b[0mBipartateMatching\u001b[0m\u001b[1;33m(\u001b[0m\u001b[1;33m)\u001b[0m\u001b[1;33m\u001b[0m\u001b[1;33m\u001b[0m\u001b[0m\n\u001b[1;32m----> 2\u001b[1;33m \u001b[0mlx\u001b[0m\u001b[1;33m(\u001b[0m\u001b[0mxINP\u001b[0m\u001b[1;33m,\u001b[0m\u001b[0myINP\u001b[0m\u001b[1;33m)\u001b[0m\u001b[1;33m\u001b[0m\u001b[1;33m\u001b[0m\u001b[0m\n\u001b[0m",
      "\u001b[1;31mTypeError\u001b[0m: __call__() takes 2 positional arguments but 3 were given"
     ]
    }
   ],
   "source": [
    "lx = BipartateMatching()\n",
    "lx(xINP,yINP)"
   ]
  },
  {
   "cell_type": "code",
   "execution_count": null,
   "metadata": {},
   "outputs": [],
   "source": []
  }
 ],
 "metadata": {
  "kernelspec": {
   "display_name": "base",
   "language": "python",
   "name": "python3"
  },
  "language_info": {
   "codemirror_mode": {
    "name": "ipython",
    "version": 3
   },
   "file_extension": ".py",
   "mimetype": "text/x-python",
   "name": "python",
   "nbconvert_exporter": "python",
   "pygments_lexer": "ipython3",
   "version": "3.9.13"
  },
  "orig_nbformat": 4,
  "vscode": {
   "interpreter": {
    "hash": "875073505a3866a3a552088a9e3b6f081cbc214e97fb6cd14ad8e938e2a9a94e"
   }
  }
 },
 "nbformat": 4,
 "nbformat_minor": 2
}
