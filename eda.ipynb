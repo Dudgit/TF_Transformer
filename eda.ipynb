{
 "cells": [
  {
   "attachments": {},
   "cell_type": "markdown",
   "metadata": {},
   "source": [
    "# Working"
   ]
  },
  {
   "cell_type": "code",
   "execution_count": 1,
   "metadata": {},
   "outputs": [],
   "source": [
    "%load_ext autoreload\n",
    "%autoreload 2\n",
    "import sys\n",
    "sys.path.append(\"src/\")"
   ]
  },
  {
   "cell_type": "code",
   "execution_count": 2,
   "metadata": {},
   "outputs": [],
   "source": [
    "\n",
    "from src.data import get_track ,padBatch, getBatch, preprocessBatch, fourier_mapping\n",
    "from IPython.display import clear_output\n",
    "import tensorflow as tf \n",
    "import numpy as np\n",
    "import math"
   ]
  },
  {
   "cell_type": "code",
   "execution_count": 3,
   "metadata": {},
   "outputs": [],
   "source": [
    "trk = get_track()\n",
    "clear_output()"
   ]
  },
  {
   "attachments": {},
   "cell_type": "markdown",
   "metadata": {},
   "source": [
    "# Experiment"
   ]
  },
  {
   "cell_type": "code",
   "execution_count": 4,
   "metadata": {},
   "outputs": [],
   "source": [
    "batch = getBatch(trk,batch_size=32)"
   ]
  },
  {
   "cell_type": "code",
   "execution_count": 9,
   "metadata": {},
   "outputs": [],
   "source": [
    "X = batch[:,:,2:5]\n"
   ]
  },
  {
   "cell_type": "code",
   "execution_count": 6,
   "metadata": {},
   "outputs": [],
   "source": [
    "from src.model import RandomFourierFeatures"
   ]
  },
  {
   "cell_type": "code",
   "execution_count": 14,
   "metadata": {},
   "outputs": [],
   "source": [
    "lx = RandomFourierFeatures()\n",
    "xpos = lx(X[:,:,0])\n",
    "ypos = lx(X[:,:,1])\n",
    "dE =   lx(X[:,:,2])"
   ]
  },
  {
   "cell_type": "code",
   "execution_count": 15,
   "metadata": {},
   "outputs": [],
   "source": [
    "XS = tf.stack([xpos,ypos,dE],axis=2)"
   ]
  },
  {
   "cell_type": "code",
   "execution_count": 17,
   "metadata": {},
   "outputs": [],
   "source": [
    "lidx = 1"
   ]
  },
  {
   "cell_type": "code",
   "execution_count": 22,
   "metadata": {},
   "outputs": [
    {
     "data": {
      "text/plain": [
       "<tf.Tensor: shape=(32, 3, 32), dtype=float32, numpy=\n",
       "array([[[0.95198643, 0.9725376 , 0.8837802 , ..., 0.9574801 ,\n",
       "         0.95295703, 0.7307978 ],\n",
       "        [0.8492578 , 0.96280503, 0.92901194, ..., 0.9226678 ,\n",
       "         0.9995295 , 0.97431433],\n",
       "        [0.99954635, 0.9636922 , 0.722705  , ..., 0.90289855,\n",
       "         0.85081893, 0.7078998 ]],\n",
       "\n",
       "       [[0.95198643, 0.9725376 , 0.8837802 , ..., 0.9574801 ,\n",
       "         0.95295703, 0.7307978 ],\n",
       "        [0.8492578 , 0.96280503, 0.92901194, ..., 0.9226678 ,\n",
       "         0.9995295 , 0.97431433],\n",
       "        [0.99954635, 0.9636922 , 0.722705  , ..., 0.90289855,\n",
       "         0.85081893, 0.7078998 ]],\n",
       "\n",
       "       [[0.95198643, 0.9725376 , 0.8837802 , ..., 0.9574801 ,\n",
       "         0.95295703, 0.7307978 ],\n",
       "        [0.8492578 , 0.96280503, 0.92901194, ..., 0.9226678 ,\n",
       "         0.9995295 , 0.97431433],\n",
       "        [0.99954635, 0.9636922 , 0.722705  , ..., 0.90289855,\n",
       "         0.85081893, 0.7078998 ]],\n",
       "\n",
       "       ...,\n",
       "\n",
       "       [[0.95198643, 0.9725376 , 0.8837802 , ..., 0.9574801 ,\n",
       "         0.95295703, 0.7307978 ],\n",
       "        [0.8492578 , 0.96280503, 0.92901194, ..., 0.9226678 ,\n",
       "         0.9995295 , 0.97431433],\n",
       "        [0.99954635, 0.9636922 , 0.722705  , ..., 0.90289855,\n",
       "         0.85081893, 0.7078998 ]],\n",
       "\n",
       "       [[0.95198643, 0.9725376 , 0.8837802 , ..., 0.9574801 ,\n",
       "         0.95295703, 0.7307978 ],\n",
       "        [0.8492578 , 0.96280503, 0.92901194, ..., 0.9226678 ,\n",
       "         0.9995295 , 0.97431433],\n",
       "        [0.99954635, 0.9636922 , 0.722705  , ..., 0.90289855,\n",
       "         0.85081893, 0.7078998 ]],\n",
       "\n",
       "       [[0.95198643, 0.9725376 , 0.8837802 , ..., 0.9574801 ,\n",
       "         0.95295703, 0.7307978 ],\n",
       "        [0.8492578 , 0.96280503, 0.92901194, ..., 0.9226678 ,\n",
       "         0.9995295 , 0.97431433],\n",
       "        [0.99954635, 0.9636922 , 0.722705  , ..., 0.90289855,\n",
       "         0.85081893, 0.7078998 ]]], dtype=float32)>"
      ]
     },
     "execution_count": 22,
     "metadata": {},
     "output_type": "execute_result"
    }
   ],
   "source": [
    "xc = XS[:,-lidx]\n",
    "xp = XS[:,-lidx-1]\n",
    "x = tf.concat([xc,xp],axis=2)\n"
   ]
  }
 ],
 "metadata": {
  "kernelspec": {
   "display_name": "base",
   "language": "python",
   "name": "python3"
  },
  "language_info": {
   "codemirror_mode": {
    "name": "ipython",
    "version": 3
   },
   "file_extension": ".py",
   "mimetype": "text/x-python",
   "name": "python",
   "nbconvert_exporter": "python",
   "pygments_lexer": "ipython3",
   "version": "3.9.13"
  },
  "orig_nbformat": 4,
  "vscode": {
   "interpreter": {
    "hash": "875073505a3866a3a552088a9e3b6f081cbc214e97fb6cd14ad8e938e2a9a94e"
   }
  }
 },
 "nbformat": 4,
 "nbformat_minor": 2
}
