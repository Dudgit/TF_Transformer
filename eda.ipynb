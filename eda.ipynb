{
 "cells": [
  {
   "cell_type": "code",
   "execution_count": 1,
   "metadata": {},
   "outputs": [],
   "source": [
    "%load_ext autoreload\n",
    "%autoreload 2\n"
   ]
  },
  {
   "cell_type": "code",
   "execution_count": 31,
   "metadata": {},
   "outputs": [],
   "source": [
    "from data import get_track\n",
    "from IPython.display import clear_output\n",
    "import tensorflow as tf \n",
    "import numpy as np"
   ]
  },
  {
   "cell_type": "code",
   "execution_count": 2,
   "metadata": {},
   "outputs": [],
   "source": [
    "trk = get_track()\n",
    "clear_output()"
   ]
  },
  {
   "cell_type": "code",
   "execution_count": 5,
   "metadata": {},
   "outputs": [],
   "source": [
    "pidx = trk.index.get_level_values(0).unique()"
   ]
  },
  {
   "cell_type": "code",
   "execution_count": 14,
   "metadata": {},
   "outputs": [],
   "source": [
    "from data import padBatch, get_batch"
   ]
  },
  {
   "cell_type": "code",
   "execution_count": 17,
   "metadata": {},
   "outputs": [],
   "source": [
    "df = trk.loc[pidx[4]]\n",
    "trL = df.index.max()+1"
   ]
  },
  {
   "cell_type": "code",
   "execution_count": 35,
   "metadata": {},
   "outputs": [],
   "source": [
    "padding = tf.constant([[0,25-int(trL)],[0,0]])\n",
    "\n",
    "res =  tf.pad(df[0*int(trL):1*int(trL)].astype(np.float32)    ,padding,\"CONSTANT\")\n"
   ]
  },
  {
   "cell_type": "code",
   "execution_count": 67,
   "metadata": {},
   "outputs": [],
   "source": [
    "import numpy as np\n",
    "import tensorflow as tf\n"
   ]
  },
  {
   "cell_type": "code",
   "execution_count": 71,
   "metadata": {},
   "outputs": [
    {
     "data": {
      "text/plain": [
       "21.0"
      ]
     },
     "execution_count": 71,
     "metadata": {},
     "output_type": "execute_result"
    }
   ],
   "source": [
    "beids = np.random.choice(trk.index.get_level_values(0).unique(),5)\n",
    "trL = trk.loc[beids[0]].posZ.max()+1\n",
    "trk.loc[beids[0]].index.size/trL"
   ]
  },
  {
   "cell_type": "code",
   "execution_count": 137,
   "metadata": {},
   "outputs": [
    {
     "data": {
      "text/plain": [
       "22"
      ]
     },
     "execution_count": 137,
     "metadata": {},
     "output_type": "execute_result"
    }
   ],
   "source": [
    "trk.posZ.max()"
   ]
  },
  {
   "cell_type": "code",
   "execution_count": 77,
   "metadata": {},
   "outputs": [],
   "source": [
    "MAX_LAYER = 25\n"
   ]
  },
  {
   "cell_type": "code",
   "execution_count": 132,
   "metadata": {},
   "outputs": [],
   "source": [
    "def padBatch(df):\n",
    "    trL = df.posZ.max()+1\n",
    "    numParticles = int(df.index.size/trL)\n",
    "    \n",
    "    padding = tf.constant([[0,MAX_LAYER-trL],[0,0]])\n",
    "    res =  tf.pad(df[0*trL:1*trL],padding,\"CONSTANT\")\n",
    "    for pidx in range(1,numParticles-1):\n",
    "        padding = tf.constant([[0,MAX_LAYER-trL],[0,0]])\n",
    "        r1 = tf.pad(df[pidx*trL:(pidx+1)*trL],padding,\"CONSTANT\")\n",
    "        res = tf.concat([res,r1],0) \n",
    "    return res \n",
    "padded = padBatch(trk.loc[beids[0]])\n"
   ]
  },
  {
   "cell_type": "code",
   "execution_count": 138,
   "metadata": {},
   "outputs": [
    {
     "data": {
      "text/plain": [
       "500"
      ]
     },
     "execution_count": 138,
     "metadata": {},
     "output_type": "execute_result"
    }
   ],
   "source": [
    "padded.shape[0]"
   ]
  },
  {
   "cell_type": "code",
   "execution_count": 88,
   "metadata": {},
   "outputs": [
    {
     "data": {
      "text/plain": [
       "<tf.Tensor: shape=(5, 5), dtype=int32, numpy=\n",
       "array([[0, 0, 0, 0, 0],\n",
       "       [0, 1, 2, 0, 0],\n",
       "       [0, 3, 4, 0, 0],\n",
       "       [0, 0, 0, 0, 0],\n",
       "       [0, 0, 0, 0, 0]])>"
      ]
     },
     "execution_count": 88,
     "metadata": {},
     "output_type": "execute_result"
    }
   ],
   "source": [
    "t1 = tf.constant([[1,2],[3,4]])\n",
    "padding = tf.constant([[1,2],[1,2]])\n",
    "tf.pad(t1,padding,\"CONSTANT\")"
   ]
  },
  {
   "cell_type": "code",
   "execution_count": null,
   "metadata": {},
   "outputs": [],
   "source": []
  },
  {
   "cell_type": "code",
   "execution_count": 47,
   "metadata": {},
   "outputs": [
    {
     "data": {
      "text/plain": [
       "21"
      ]
     },
     "execution_count": 47,
     "metadata": {},
     "output_type": "execute_result"
    }
   ],
   "source": [
    "trk.loc[beids[4]].posZ.max()"
   ]
  },
  {
   "cell_type": "code",
   "execution_count": null,
   "metadata": {},
   "outputs": [],
   "source": []
  },
  {
   "cell_type": "code",
   "execution_count": 55,
   "metadata": {},
   "outputs": [
    {
     "data": {
      "text/html": [
       "<div>\n",
       "<style scoped>\n",
       "    .dataframe tbody tr th:only-of-type {\n",
       "        vertical-align: middle;\n",
       "    }\n",
       "\n",
       "    .dataframe tbody tr th {\n",
       "        vertical-align: top;\n",
       "    }\n",
       "\n",
       "    .dataframe thead th {\n",
       "        text-align: right;\n",
       "    }\n",
       "</style>\n",
       "<table border=\"1\" class=\"dataframe\">\n",
       "  <thead>\n",
       "    <tr style=\"text-align: right;\">\n",
       "      <th></th>\n",
       "      <th></th>\n",
       "      <th>dX</th>\n",
       "      <th>dY</th>\n",
       "      <th>dZ</th>\n",
       "      <th>Ekine</th>\n",
       "      <th>posX</th>\n",
       "      <th>posY</th>\n",
       "      <th>posZ</th>\n",
       "    </tr>\n",
       "    <tr>\n",
       "      <th>EventID</th>\n",
       "      <th>TrackID</th>\n",
       "      <th></th>\n",
       "      <th></th>\n",
       "      <th></th>\n",
       "      <th></th>\n",
       "      <th></th>\n",
       "      <th></th>\n",
       "      <th></th>\n",
       "    </tr>\n",
       "  </thead>\n",
       "  <tbody>\n",
       "    <tr>\n",
       "      <th rowspan=\"11\" valign=\"top\">3</th>\n",
       "      <th>1</th>\n",
       "      <td>0.014982</td>\n",
       "      <td>0.011148</td>\n",
       "      <td>0.999826</td>\n",
       "      <td>148.987717</td>\n",
       "      <td>-4.124664</td>\n",
       "      <td>2.281091</td>\n",
       "      <td>0</td>\n",
       "    </tr>\n",
       "    <tr>\n",
       "      <th>1</th>\n",
       "      <td>0.014982</td>\n",
       "      <td>0.011148</td>\n",
       "      <td>0.999826</td>\n",
       "      <td>148.987717</td>\n",
       "      <td>-3.397784</td>\n",
       "      <td>3.169025</td>\n",
       "      <td>1</td>\n",
       "    </tr>\n",
       "    <tr>\n",
       "      <th>1</th>\n",
       "      <td>0.014982</td>\n",
       "      <td>0.011148</td>\n",
       "      <td>0.999826</td>\n",
       "      <td>148.987717</td>\n",
       "      <td>-2.613147</td>\n",
       "      <td>3.812561</td>\n",
       "      <td>2</td>\n",
       "    </tr>\n",
       "    <tr>\n",
       "      <th>1</th>\n",
       "      <td>0.014982</td>\n",
       "      <td>0.011148</td>\n",
       "      <td>0.999826</td>\n",
       "      <td>148.987717</td>\n",
       "      <td>-2.452003</td>\n",
       "      <td>3.938205</td>\n",
       "      <td>3</td>\n",
       "    </tr>\n",
       "    <tr>\n",
       "      <th>1</th>\n",
       "      <td>0.014982</td>\n",
       "      <td>0.011148</td>\n",
       "      <td>0.999826</td>\n",
       "      <td>148.987717</td>\n",
       "      <td>-2.242367</td>\n",
       "      <td>4.079671</td>\n",
       "      <td>4</td>\n",
       "    </tr>\n",
       "    <tr>\n",
       "      <th>...</th>\n",
       "      <td>...</td>\n",
       "      <td>...</td>\n",
       "      <td>...</td>\n",
       "      <td>...</td>\n",
       "      <td>...</td>\n",
       "      <td>...</td>\n",
       "      <td>...</td>\n",
       "    </tr>\n",
       "    <tr>\n",
       "      <th>1</th>\n",
       "      <td>0.054807</td>\n",
       "      <td>-0.033875</td>\n",
       "      <td>0.997922</td>\n",
       "      <td>9.251559</td>\n",
       "      <td>0.390218</td>\n",
       "      <td>5.989302</td>\n",
       "      <td>16</td>\n",
       "    </tr>\n",
       "    <tr>\n",
       "      <th>1</th>\n",
       "      <td>0.054807</td>\n",
       "      <td>-0.033875</td>\n",
       "      <td>0.997922</td>\n",
       "      <td>9.251559</td>\n",
       "      <td>0.458060</td>\n",
       "      <td>5.917573</td>\n",
       "      <td>17</td>\n",
       "    </tr>\n",
       "    <tr>\n",
       "      <th>1</th>\n",
       "      <td>0.054807</td>\n",
       "      <td>-0.033875</td>\n",
       "      <td>0.997922</td>\n",
       "      <td>9.251559</td>\n",
       "      <td>0.589257</td>\n",
       "      <td>5.817865</td>\n",
       "      <td>18</td>\n",
       "    </tr>\n",
       "    <tr>\n",
       "      <th>1</th>\n",
       "      <td>0.054807</td>\n",
       "      <td>-0.033875</td>\n",
       "      <td>0.997922</td>\n",
       "      <td>9.251559</td>\n",
       "      <td>0.872694</td>\n",
       "      <td>5.810639</td>\n",
       "      <td>19</td>\n",
       "    </tr>\n",
       "    <tr>\n",
       "      <th>1</th>\n",
       "      <td>0.054807</td>\n",
       "      <td>-0.033875</td>\n",
       "      <td>0.997922</td>\n",
       "      <td>9.251559</td>\n",
       "      <td>1.265330</td>\n",
       "      <td>5.869817</td>\n",
       "      <td>20</td>\n",
       "    </tr>\n",
       "  </tbody>\n",
       "</table>\n",
       "<p>462 rows × 7 columns</p>\n",
       "</div>"
      ],
      "text/plain": [
       "                       dX        dY        dZ       Ekine      posX      posY  \\\n",
       "EventID TrackID                                                                 \n",
       "3       1        0.014982  0.011148  0.999826  148.987717 -4.124664  2.281091   \n",
       "        1        0.014982  0.011148  0.999826  148.987717 -3.397784  3.169025   \n",
       "        1        0.014982  0.011148  0.999826  148.987717 -2.613147  3.812561   \n",
       "        1        0.014982  0.011148  0.999826  148.987717 -2.452003  3.938205   \n",
       "        1        0.014982  0.011148  0.999826  148.987717 -2.242367  4.079671   \n",
       "...                   ...       ...       ...         ...       ...       ...   \n",
       "        1        0.054807 -0.033875  0.997922    9.251559  0.390218  5.989302   \n",
       "        1        0.054807 -0.033875  0.997922    9.251559  0.458060  5.917573   \n",
       "        1        0.054807 -0.033875  0.997922    9.251559  0.589257  5.817865   \n",
       "        1        0.054807 -0.033875  0.997922    9.251559  0.872694  5.810639   \n",
       "        1        0.054807 -0.033875  0.997922    9.251559  1.265330  5.869817   \n",
       "\n",
       "                 posZ  \n",
       "EventID TrackID        \n",
       "3       1           0  \n",
       "        1           1  \n",
       "        1           2  \n",
       "        1           3  \n",
       "        1           4  \n",
       "...               ...  \n",
       "        1          16  \n",
       "        1          17  \n",
       "        1          18  \n",
       "        1          19  \n",
       "        1          20  \n",
       "\n",
       "[462 rows x 7 columns]"
      ]
     },
     "execution_count": 55,
     "metadata": {},
     "output_type": "execute_result"
    }
   ],
   "source": [
    "eid = trk.index.get_level_values(0).unique()\n",
    "tid = trk.index.get_level_values(1).unique()\n",
    "trk.loc[eid[2],tid[0]]"
   ]
  },
  {
   "cell_type": "code",
   "execution_count": null,
   "metadata": {},
   "outputs": [],
   "source": []
  },
  {
   "cell_type": "code",
   "execution_count": null,
   "metadata": {},
   "outputs": [],
   "source": []
  },
  {
   "attachments": {},
   "cell_type": "markdown",
   "metadata": {},
   "source": [
    "# Problems\n",
    "hit (eventID + trackID) != allhit(eventID + trackID)"
   ]
  }
 ],
 "metadata": {
  "kernelspec": {
   "display_name": "base",
   "language": "python",
   "name": "python3"
  },
  "language_info": {
   "codemirror_mode": {
    "name": "ipython",
    "version": 3
   },
   "file_extension": ".py",
   "mimetype": "text/x-python",
   "name": "python",
   "nbconvert_exporter": "python",
   "pygments_lexer": "ipython3",
   "version": "3.9.12"
  },
  "orig_nbformat": 4,
  "vscode": {
   "interpreter": {
    "hash": "875073505a3866a3a552088a9e3b6f081cbc214e97fb6cd14ad8e938e2a9a94e"
   }
  }
 },
 "nbformat": 4,
 "nbformat_minor": 2
}
