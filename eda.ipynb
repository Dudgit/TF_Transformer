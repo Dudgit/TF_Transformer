{
 "cells": [
  {
   "attachments": {},
   "cell_type": "markdown",
   "metadata": {},
   "source": [
    "# Working"
   ]
  },
  {
   "cell_type": "code",
   "execution_count": 1,
   "metadata": {},
   "outputs": [],
   "source": [
    "%load_ext autoreload\n",
    "%autoreload 2\n",
    "import sys\n",
    "sys.path.append(\"src/\")"
   ]
  },
  {
   "cell_type": "code",
   "execution_count": 6,
   "metadata": {},
   "outputs": [],
   "source": [
    "\n",
    "from src.data import get_track , getBatch\n",
    "from src.model import PCT_Transformer\n",
    "import glob\n",
    "import numpy as np\n",
    "import tensorflow as tf"
   ]
  },
  {
   "cell_type": "code",
   "execution_count": 7,
   "metadata": {},
   "outputs": [],
   "source": [
    "aPaths = glob.glob(\"data/*AllPSA.npy\")\n",
    "hpaths = glob.glob(\"data/*.hits.npy\")\n",
    "ap = np.random.choice(aPaths)\n",
    "hp = np.random.choice(hpaths)\n",
    "trk =  get_track(apth=ap,hpth=hp)\n",
    "batch = getBatch(trk,batch_size=32)\n",
    "X = batch[:,:,2:5]\n",
    "Y = batch[:,:,5:]\n",
    "model = PCT_Transformer()"
   ]
  },
  {
   "cell_type": "code",
   "execution_count": 8,
   "metadata": {},
   "outputs": [],
   "source": [
    "model.compile(optimizer = tf.keras.optimizers.Adam(),loss = tf.keras.losses.CategoricalCrossentropy(from_logits=False))"
   ]
  },
  {
   "cell_type": "code",
   "execution_count": 9,
   "metadata": {},
   "outputs": [
    {
     "name": "stdout",
     "output_type": "stream",
     "text": [
      "Epoch:  0\n",
      "Loss:  23.721388\n"
     ]
    },
    {
     "data": {
      "text/plain": [
       "(<tf.Tensor: shape=(), dtype=float32, numpy=23.721388>,\n",
       " <tf.Tensor: shape=(32, 3), dtype=float32, numpy=\n",
       " array([[0.2245361 , 0.2942406 , 0.48122323],\n",
       "        [0.2245361 , 0.2942406 , 0.48122323],\n",
       "        [0.2245361 , 0.2942406 , 0.48122323],\n",
       "        [0.2245361 , 0.2942406 , 0.48122323],\n",
       "        [0.2245361 , 0.2942406 , 0.48122323],\n",
       "        [0.2245361 , 0.2942406 , 0.48122323],\n",
       "        [0.2245361 , 0.2942406 , 0.48122323],\n",
       "        [0.2245361 , 0.2942406 , 0.48122323],\n",
       "        [0.2245361 , 0.2942406 , 0.48122323],\n",
       "        [0.2245361 , 0.2942406 , 0.48122323],\n",
       "        [0.03980862, 0.49929404, 0.4608972 ],\n",
       "        [0.2245361 , 0.2942406 , 0.48122323],\n",
       "        [0.2245361 , 0.2942406 , 0.48122323],\n",
       "        [0.28908902, 0.41995385, 0.29095706],\n",
       "        [0.03980862, 0.49929404, 0.4608972 ],\n",
       "        [0.2245361 , 0.2942406 , 0.48122323],\n",
       "        [0.2245361 , 0.2942406 , 0.48122323],\n",
       "        [0.2245361 , 0.2942406 , 0.48122323],\n",
       "        [0.2245361 , 0.2942406 , 0.48122323],\n",
       "        [0.2245361 , 0.2942406 , 0.48122323],\n",
       "        [0.2245361 , 0.2942406 , 0.48122323],\n",
       "        [0.2245361 , 0.2942406 , 0.48122323],\n",
       "        [0.2245361 , 0.2942406 , 0.48122323],\n",
       "        [0.2245361 , 0.2942406 , 0.48122323],\n",
       "        [0.2245361 , 0.2942406 , 0.48122323],\n",
       "        [0.2245361 , 0.2942406 , 0.48122323],\n",
       "        [0.2245361 , 0.2942406 , 0.48122323],\n",
       "        [0.2245361 , 0.2942406 , 0.48122323],\n",
       "        [0.2245361 , 0.2942406 , 0.48122323],\n",
       "        [0.2245361 , 0.2942406 , 0.48122323],\n",
       "        [0.2245361 , 0.2942406 , 0.48122323],\n",
       "        [0.2245361 , 0.2942406 , 0.48122323]], dtype=float32)>)"
      ]
     },
     "execution_count": 9,
     "metadata": {},
     "output_type": "execute_result"
    }
   ],
   "source": [
    "model.fit(X,Y)"
   ]
  },
  {
   "attachments": {},
   "cell_type": "markdown",
   "metadata": {},
   "source": [
    "# Experiment"
   ]
  },
  {
   "cell_type": "code",
   "execution_count": 43,
   "metadata": {},
   "outputs": [],
   "source": [
    "predictions, loss = model(X,Y)"
   ]
  },
  {
   "cell_type": "code",
   "execution_count": 44,
   "metadata": {},
   "outputs": [
    {
     "data": {
      "text/plain": [
       "<tf.Tensor: shape=(), dtype=float32, numpy=249.33801>"
      ]
     },
     "execution_count": 44,
     "metadata": {},
     "output_type": "execute_result"
    }
   ],
   "source": [
    "loss"
   ]
  },
  {
   "cell_type": "code",
   "execution_count": null,
   "metadata": {},
   "outputs": [],
   "source": []
  }
 ],
 "metadata": {
  "kernelspec": {
   "display_name": "base",
   "language": "python",
   "name": "python3"
  },
  "language_info": {
   "codemirror_mode": {
    "name": "ipython",
    "version": 3
   },
   "file_extension": ".py",
   "mimetype": "text/x-python",
   "name": "python",
   "nbconvert_exporter": "python",
   "pygments_lexer": "ipython3",
   "version": "3.9.13"
  },
  "orig_nbformat": 4,
  "vscode": {
   "interpreter": {
    "hash": "875073505a3866a3a552088a9e3b6f081cbc214e97fb6cd14ad8e938e2a9a94e"
   }
  }
 },
 "nbformat": 4,
 "nbformat_minor": 2
}
