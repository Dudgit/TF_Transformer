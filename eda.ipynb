{
 "cells": [
  {
   "attachments": {},
   "cell_type": "markdown",
   "metadata": {},
   "source": [
    "# Working"
   ]
  },
  {
   "cell_type": "code",
   "execution_count": 1,
   "metadata": {},
   "outputs": [],
   "source": [
    "%load_ext autoreload\n",
    "%autoreload 2\n",
    "import sys\n",
    "sys.path.append(\"src/\")"
   ]
  },
  {
   "cell_type": "code",
   "execution_count": 6,
   "metadata": {},
   "outputs": [],
   "source": [
    "\n",
    "from src.data import get_track , getBatch\n",
    "from src.model import PCT_Transformer\n",
    "import glob\n",
    "import numpy as np\n",
    "import tensorflow as tf"
   ]
  },
  {
   "cell_type": "code",
   "execution_count": 7,
   "metadata": {},
   "outputs": [],
   "source": [
    "aPaths = glob.glob(\"data/*AllPSA.npy\")\n",
    "hpaths = glob.glob(\"data/*.hits.npy\")\n",
    "ap = np.random.choice(aPaths)\n",
    "hp = np.random.choice(hpaths)\n",
    "trk =  get_track(apth=ap,hpth=hp)\n",
    "batch = getBatch(trk,batch_size=32)\n",
    "X = batch[:,:,2:5]\n",
    "Y = batch[:,:,5:]\n",
    "model = PCT_Transformer()"
   ]
  },
  {
   "cell_type": "code",
   "execution_count": 8,
   "metadata": {},
   "outputs": [],
   "source": [
    "model.compile(optimizer = tf.keras.optimizers.Adam(),loss = tf.keras.losses.CategoricalCrossentropy(from_logits=False))"
   ]
  },
  {
   "cell_type": "code",
   "execution_count": 9,
   "metadata": {},
   "outputs": [
    {
     "name": "stdout",
     "output_type": "stream",
     "text": [
      "Epoch:  0\n",
      "Loss:  23.721388\n"
     ]
    },
    {
     "data": {
      "text/plain": [
       "(<tf.Tensor: shape=(), dtype=float32, numpy=23.721388>,\n",
       " <tf.Tensor: shape=(32, 3), dtype=float32, numpy=\n",
       " array([[0.2245361 , 0.2942406 , 0.48122323],\n",
       "        [0.2245361 , 0.2942406 , 0.48122323],\n",
       "        [0.2245361 , 0.2942406 , 0.48122323],\n",
       "        [0.2245361 , 0.2942406 , 0.48122323],\n",
       "        [0.2245361 , 0.2942406 , 0.48122323],\n",
       "        [0.2245361 , 0.2942406 , 0.48122323],\n",
       "        [0.2245361 , 0.2942406 , 0.48122323],\n",
       "        [0.2245361 , 0.2942406 , 0.48122323],\n",
       "        [0.2245361 , 0.2942406 , 0.48122323],\n",
       "        [0.2245361 , 0.2942406 , 0.48122323],\n",
       "        [0.03980862, 0.49929404, 0.4608972 ],\n",
       "        [0.2245361 , 0.2942406 , 0.48122323],\n",
       "        [0.2245361 , 0.2942406 , 0.48122323],\n",
       "        [0.28908902, 0.41995385, 0.29095706],\n",
       "        [0.03980862, 0.49929404, 0.4608972 ],\n",
       "        [0.2245361 , 0.2942406 , 0.48122323],\n",
       "        [0.2245361 , 0.2942406 , 0.48122323],\n",
       "        [0.2245361 , 0.2942406 , 0.48122323],\n",
       "        [0.2245361 , 0.2942406 , 0.48122323],\n",
       "        [0.2245361 , 0.2942406 , 0.48122323],\n",
       "        [0.2245361 , 0.2942406 , 0.48122323],\n",
       "        [0.2245361 , 0.2942406 , 0.48122323],\n",
       "        [0.2245361 , 0.2942406 , 0.48122323],\n",
       "        [0.2245361 , 0.2942406 , 0.48122323],\n",
       "        [0.2245361 , 0.2942406 , 0.48122323],\n",
       "        [0.2245361 , 0.2942406 , 0.48122323],\n",
       "        [0.2245361 , 0.2942406 , 0.48122323],\n",
       "        [0.2245361 , 0.2942406 , 0.48122323],\n",
       "        [0.2245361 , 0.2942406 , 0.48122323],\n",
       "        [0.2245361 , 0.2942406 , 0.48122323],\n",
       "        [0.2245361 , 0.2942406 , 0.48122323],\n",
       "        [0.2245361 , 0.2942406 , 0.48122323]], dtype=float32)>)"
      ]
     },
     "execution_count": 9,
     "metadata": {},
     "output_type": "execute_result"
    }
   ],
   "source": [
    "model.fit(X,Y)"
   ]
  },
  {
   "attachments": {},
   "cell_type": "markdown",
   "metadata": {},
   "source": [
    "# Experiment"
   ]
  },
  {
   "cell_type": "code",
   "execution_count": 43,
   "metadata": {},
   "outputs": [],
   "source": [
    "predictions, loss = model(X,Y)"
   ]
  },
  {
   "cell_type": "code",
   "execution_count": 44,
   "metadata": {},
   "outputs": [
    {
     "data": {
      "text/plain": [
       "<tf.Tensor: shape=(), dtype=float32, numpy=249.33801>"
      ]
     },
     "execution_count": 44,
     "metadata": {},
     "output_type": "execute_result"
    }
   ],
   "source": [
    "loss"
   ]
  },
  {
   "cell_type": "code",
   "execution_count": 9,
   "metadata": {},
   "outputs": [],
   "source": [
    "import numpy as np\n",
    "import tensorflow as tf\n",
    "from scipy.spatial import distance_matrix\n",
    "\n",
    "N=200\n",
    "\n",
    "xINP = np.random.uniform(-1,1,(N,2))\n",
    "permutation = np.random.permutation(range(N))\n",
    "yINP = np.array(list(map(lambda i: xINP[i], permutation)))\n",
    "Noise = 0.01\n",
    "Noise = 0.1\n",
    "yINP += np.random.normal(0,Noise,(N,2))\n",
    "\n",
    "\n",
    "def bipartete_matching(xINP:np.ndarray,yINP:np.ndarray)-> (np.ndarray,np.ndarray):\n",
    "    cost_matrix = distance_matrix(xINP,yINP)\n",
    "\n",
    "    queue = []\n",
    "    for i in range(cost_matrix.shape[0]):\n",
    "        for j in range(cost_matrix.shape[1]):\n",
    "            queue.append([i,j,cost_matrix[i,j]])\n",
    "    queue = sorted(queue, key=lambda x: x[2])\n",
    "\n",
    "    row_to_col_match_vec = np.full(N,-1)\n",
    "    col_to_row_match_vec = np.full(N,-1)\n",
    "    for row in queue:\n",
    "        if (row_to_col_match_vec[row[0]] == -1) & (col_to_row_match_vec[row[1]] == -1):\n",
    "            row_to_col_match_vec[row[0]] = row[1]\n",
    "            col_to_row_match_vec[row[1]] = row[0]\n",
    "    return col_to_row_match_vec"
   ]
  },
  {
   "cell_type": "code",
   "execution_count": 15,
   "metadata": {},
   "outputs": [],
   "source": [
    "class BipartateMatching(tf.keras.layers.Layer):\n",
    "    def __init__(self):\n",
    "        super().__init__()\n",
    "    def __call__(self,xINP:tf.Tensor,yINP:tf.Tensor)->tf.Tensor:\n",
    "        cost_matrix = distance_matrix(xINP,yINP)\n",
    "\n",
    "        queue = []\n",
    "        for i in range(cost_matrix.shape[0]):\n",
    "            for j in range(cost_matrix.shape[1]):\n",
    "                queue.append([i,j,cost_matrix[i,j]])\n",
    "        queue = sorted(queue, key=lambda x: x[2])\n",
    "\n",
    "        row_to_col_match_vec = np.full(N,-1)\n",
    "        col_to_row_match_vec = np.full(N,-1)\n",
    "        for row in queue:\n",
    "            if (row_to_col_match_vec[row[0]] == -1) & (col_to_row_match_vec[row[1]] == -1):\n",
    "                row_to_col_match_vec[row[0]] = row[1]\n",
    "                col_to_row_match_vec[row[1]] = row[0]\n",
    "        return tf.convert_to_tensor(col_to_row_match_vec)"
   ]
  },
  {
   "cell_type": "code",
   "execution_count": 16,
   "metadata": {},
   "outputs": [
    {
     "data": {
      "text/plain": [
       "<tf.Tensor: shape=(200,), dtype=int32, numpy=\n",
       "array([187, 138,  38, 147,  35, 112, 104,  13,   9,  77,  81,  57, 105,\n",
       "        32,  11,  91, 134, 127, 137, 120, 168,  53,  41, 152,  93,  16,\n",
       "       158, 119,  21,  29,  62, 198,  14,  96,  66, 181, 135, 111, 157,\n",
       "       150, 162,   1, 117,  20, 194,  22,  26, 180, 188,  76, 179, 118,\n",
       "        51, 167, 169, 141,  27,  59,  86, 103,  80,  70, 190,  52,  58,\n",
       "       172,  25,  94, 186,  23,  36, 156,   3,  69, 151, 114,  61, 166,\n",
       "        65, 183,  46, 144, 116,  89,  50, 160,  79, 173, 109, 123, 184,\n",
       "       199, 189,  48,  78,  40,  99,  17,  63,  64,  45, 107, 142,  75,\n",
       "        68,   0,  83,   7, 122,  10,  42, 170,  43, 108,  24, 110, 129,\n",
       "        98,  28,  33, 131, 174, 100, 153, 161, 191,   4, 185,  71, 133,\n",
       "        47, 126, 165,  82, 159,  67,   5, 182, 176,  19,   6, 149,  54,\n",
       "       125,  73,  39, 171, 102, 196,  31, 163, 132, 101, 121, 106,  60,\n",
       "       143,  74, 148, 192, 177,  95, 145,  97,  92,  37, 154,  85,  90,\n",
       "       124, 175, 113,  56,  88, 193, 136,  18,  34, 146,   8, 195,  12,\n",
       "       140, 155, 115, 128, 139, 197,  30, 130, 178,   2,  44,  15,  84,\n",
       "        55,  72,  49, 164,  87])>"
      ]
     },
     "execution_count": 16,
     "metadata": {},
     "output_type": "execute_result"
    }
   ],
   "source": [
    "lx = BipartateMatching()\n",
    "lx(tf.convert_to_tensor(xINP),tf.convert_to_tensor(yINP))"
   ]
  },
  {
   "cell_type": "code",
   "execution_count": null,
   "metadata": {},
   "outputs": [],
   "source": []
  }
 ],
 "metadata": {
  "kernelspec": {
   "display_name": "base",
   "language": "python",
   "name": "python3"
  },
  "language_info": {
   "codemirror_mode": {
    "name": "ipython",
    "version": 3
   },
   "file_extension": ".py",
   "mimetype": "text/x-python",
   "name": "python",
   "nbconvert_exporter": "python",
   "pygments_lexer": "ipython3",
   "version": "3.9.13"
  },
  "orig_nbformat": 4,
  "vscode": {
   "interpreter": {
    "hash": "875073505a3866a3a552088a9e3b6f081cbc214e97fb6cd14ad8e938e2a9a94e"
   }
  }
 },
 "nbformat": 4,
 "nbformat_minor": 2
}
